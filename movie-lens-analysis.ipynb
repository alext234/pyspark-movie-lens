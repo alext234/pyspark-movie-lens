{
 "cells": [
  {
   "cell_type": "code",
   "execution_count": 3,
   "metadata": {},
   "outputs": [],
   "source": [
    "from pyspark.context import SparkContext\n",
    "from pyspark.sql.session import SparkSession"
   ]
  },
  {
   "cell_type": "code",
   "execution_count": 4,
   "metadata": {},
   "outputs": [],
   "source": [
    "sc = SparkContext('local')"
   ]
  },
  {
   "cell_type": "code",
   "execution_count": 12,
   "metadata": {},
   "outputs": [],
   "source": [
    "# read the data file in to a rdd of lines\n",
    "lines = sc.textFile('ml-100k/u.data')\n",
    "\n",
    "# each line consists of these columns, tab-separated\n",
    "# userid   movieid   rating  timestamp\n",
    "# to view the rows: \n",
    "# lines.collect()"
   ]
  },
  {
   "cell_type": "code",
   "execution_count": 28,
   "metadata": {},
   "outputs": [
    {
     "name": "stdout",
     "output_type": "stream",
     "text": [
      "counts for rating 3: 27145\n",
      "counts for rating 1: 6110\n",
      "counts for rating 2: 11370\n",
      "counts for rating 4: 34174\n",
      "counts for rating 5: 21201\n"
     ]
    }
   ],
   "source": [
    "# method 1: extract ratings into a column and them use countByValue() on the new rdd\n",
    "\n",
    "# extract rating into a separate rdd\n",
    "ratings = lines.map(lambda r: r.split()[2])\n",
    "\n",
    "# to view the ratings table:\n",
    "# ratings.collect()\n",
    "\n",
    "# perform count by values for the ratings --> returns a Python defaultdict\n",
    "ratings_counts = ratings.countByValue().\n",
    "\n",
    "for k,v in ratings_counts.items():\n",
    "    print(f\"counts for rating {k}: {v}\")"
   ]
  },
  {
   "cell_type": "code",
   "execution_count": 36,
   "metadata": {},
   "outputs": [
    {
     "name": "stdout",
     "output_type": "stream",
     "text": [
      "counts for rating 3: 27145\n",
      "counts for rating 1: 6110\n",
      "counts for rating 2: 11370\n",
      "counts for rating 4: 34174\n",
      "counts for rating 5: 21201\n"
     ]
    }
   ],
   "source": [
    "# method 2: extract key-value pairs of (rating, 1)  \n",
    "ratings_kv_pair = lines.map(lambda r: (r.split()[2],1))\n",
    "\n",
    "# perform reduceByKey to sum up the values of those having the same key --> returns another rdd\n",
    "ratings_counts_arr = ratings_kv_pair.reduceByKey(lambda x,y: x+y)\n",
    "\n",
    "\n",
    "for (k,v) in ratings_counts_arr.collect():\n",
    "    print(f\"counts for rating {k}: {v}\")"
   ]
  },
  {
   "cell_type": "code",
   "execution_count": null,
   "metadata": {},
   "outputs": [],
   "source": []
  }
 ],
 "metadata": {
  "kernelspec": {
   "display_name": "Python 3",
   "language": "python",
   "name": "python3"
  },
  "language_info": {
   "codemirror_mode": {
    "name": "ipython",
    "version": 3
   },
   "file_extension": ".py",
   "mimetype": "text/x-python",
   "name": "python",
   "nbconvert_exporter": "python",
   "pygments_lexer": "ipython3",
   "version": "3.7.3"
  }
 },
 "nbformat": 4,
 "nbformat_minor": 2
}
